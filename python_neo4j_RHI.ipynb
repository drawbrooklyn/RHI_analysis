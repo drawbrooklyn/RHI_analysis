{
 "cells": [
  {
   "cell_type": "markdown",
   "metadata": {},
   "source": [
    "# Red Hook Initiative (RHI) network analysis using py2neo and neo4j\n",
    "This notebook is connected to neo4j project and database, thus we can create, manage and query components of the database via the notebook, then visualizing them on neo4j. The language used is Cypher - a Neo4j’s graph query language that allows users to store and retrieve data from the graph database.\n",
    "\n",
    "- [Download neo4j](https://neo4j.com/download-neo4j-now/?utm_source=google&utm_medium=ppc&utm_campaign=*NA%20-%20Search%20-%20Branded&utm_adgroup=*NA%20-%20Search%20-%20Branded%20-%20Neo4j%20-%20Download%20-%20Exact&utm_term=neo4j%20download&gclid=Cj0KCQjwi43oBRDBARIsAExSRQFFn8nIJ4rzDGV0kdXlvF7nt1BAZY_z0URrTSJ_7-CHhCPHqXqZ9ksaAjiTEALw_wcB)\n",
    "- [install py2neo](https://py2neo.org/v4/)\n",
    "- [Cypher documentation](https://neo4j.com/developer/cypher/)\n",
    "\n",
    "[**Red Hook Initiative (RHI)**](https://rhicenter.org/) is a dominant community organization in Red Hook, Brooklyn, NY. Their goal is to support youth development through community building efforts. Since 2006, RHI programs had bloomed, it’s roots in the community deepened and today it reaches to over 5,000 Red Hook residents annually. "
   ]
  },
  {
   "cell_type": "markdown",
   "metadata": {},
   "source": [
    "# 0. Connecting to neo4j project"
   ]
  },
  {
   "cell_type": "code",
   "execution_count": 1,
   "metadata": {},
   "outputs": [],
   "source": [
    "from py2neo import Graph\n",
    "g = Graph(password=\"draw1234\") # connecting to the neo4j database"
   ]
  },
  {
   "cell_type": "markdown",
   "metadata": {},
   "source": [
    "# 1. Creating the database\n",
    "1. creating constrains\n",
    "2. creating nodes from .csv\n",
    "3. creating relationships between nodes"
   ]
  },
  {
   "cell_type": "code",
   "execution_count": 50,
   "metadata": {},
   "outputs": [
    {
     "data": {
      "text/plain": [
       "<py2neo.database.Cursor at 0x1098ece10>"
      ]
     },
     "execution_count": 50,
     "metadata": {},
     "output_type": "execute_result"
    }
   ],
   "source": [
    "# creating constrains\n",
    "g.run(\"CREATE CONSTRAINT ON (s:Staff) ASSERT s.name IS UNIQUE\")\n",
    "g.run(\"CREATE CONSTRAINT ON (p:Program) ASSERT p.program IS UNIQUE\")\n",
    "g.run(\"CREATE CONSTRAINT ON (b:SubProgram) ASSERT b.subprogram IS UNIQUE\")\n",
    "g.run(\"CREATE CONSTRAINT ON (i:Initiative) ASSERT i.initiative IS UNIQUE\")\n",
    "g.run(\"CREATE CONSTRAINT ON (l:Location) ASSERT l.location IS UNIQUE\")\n",
    "g.run(\"CREATE CONSTRAINT ON (h:Hours) ASSERT h.hours IS UNIQUE\")"
   ]
  },
  {
   "cell_type": "code",
   "execution_count": 53,
   "metadata": {},
   "outputs": [
    {
     "data": {
      "text/plain": [
       "<py2neo.database.Cursor at 0x1098f86a0>"
      ]
     },
     "execution_count": 53,
     "metadata": {},
     "output_type": "execute_result"
    }
   ],
   "source": [
    "# # code for deleting all nodes and relationships\n",
    "# # unhash to run\n",
    "# g.run(\"MATCH (n) DETACH DELETE n\")"
   ]
  },
  {
   "cell_type": "markdown",
   "metadata": {},
   "source": [
    "## 1.1 Nodes\n",
    "### Staff Nodes"
   ]
  },
  {
   "cell_type": "code",
   "execution_count": 54,
   "metadata": {},
   "outputs": [
    {
     "data": {
      "text/plain": [
       "<py2neo.database.Cursor at 0x1098ec550>"
      ]
     },
     "execution_count": 54,
     "metadata": {},
     "output_type": "execute_result"
    }
   ],
   "source": [
    "g.run(\"\"\"\n",
    "    LOAD CSV WITH HEADERS FROM \"file:///Staff.csv\" AS row \n",
    "    MERGE (s:Staff {name: row.NAME})\n",
    "    ON CREATE SET s.program = row.PROGRAM, s.role = row.ROLE, \n",
    "    s.team = row.TEAM, s.location = row.LOCATION\n",
    "    \"\"\")"
   ]
  },
  {
   "cell_type": "markdown",
   "metadata": {},
   "source": [
    "### Program Nodes"
   ]
  },
  {
   "cell_type": "code",
   "execution_count": 55,
   "metadata": {},
   "outputs": [
    {
     "data": {
      "text/plain": [
       "<py2neo.database.Cursor at 0x1098f8dd8>"
      ]
     },
     "execution_count": 55,
     "metadata": {},
     "output_type": "execute_result"
    }
   ],
   "source": [
    "g.run(\"\"\"\n",
    "    LOAD CSV WITH HEADERS FROM \"file:///Programs.csv\" AS row \n",
    "    MERGE (p:Program {name: row.PROGRAM})\n",
    "    ON CREATE SET p.goal = row.GOAL\n",
    "    \"\"\")"
   ]
  },
  {
   "cell_type": "markdown",
   "metadata": {},
   "source": [
    "### Sub-Program Nodes"
   ]
  },
  {
   "cell_type": "code",
   "execution_count": 56,
   "metadata": {},
   "outputs": [
    {
     "data": {
      "text/plain": [
       "<py2neo.database.Cursor at 0x1098fe198>"
      ]
     },
     "execution_count": 56,
     "metadata": {},
     "output_type": "execute_result"
    }
   ],
   "source": [
    "g.run(\"\"\"\n",
    "    LOAD CSV WITH HEADERS FROM 'file:///SubPrograms.csv' AS row\n",
    "    MERGE (b:SubProgram {name: row.SUBPROGRAM})\n",
    "    ON CREATE SET b.program = row.PROGRAM, b.goal = row.GOAL,\n",
    "    b.location = row.LOCATION, b.hours = row.HOURS\n",
    "    \"\"\")"
   ]
  },
  {
   "cell_type": "markdown",
   "metadata": {},
   "source": [
    "### Initiatives Nodes"
   ]
  },
  {
   "cell_type": "code",
   "execution_count": 57,
   "metadata": {},
   "outputs": [
    {
     "data": {
      "text/plain": [
       "<py2neo.database.Cursor at 0x1098f8a58>"
      ]
     },
     "execution_count": 57,
     "metadata": {},
     "output_type": "execute_result"
    }
   ],
   "source": [
    "g.run(\"\"\"\n",
    "    LOAD CSV WITH HEADERS FROM 'file:///Initiatives.csv' AS row\n",
    "    MERGE (i:Initiative {name: row.INITIATIVE})\n",
    "    ON CREATE SET i.program = row.PROGRAM, i.subprogram = row.SUBPROGRAM,\n",
    "    i.location = row.LOCATION, i.hours = row.HOURS\n",
    "    \"\"\")"
   ]
  },
  {
   "cell_type": "markdown",
   "metadata": {},
   "source": [
    "### Location Nodes"
   ]
  },
  {
   "cell_type": "code",
   "execution_count": 58,
   "metadata": {},
   "outputs": [
    {
     "data": {
      "text/plain": [
       "<py2neo.database.Cursor at 0x1098fe898>"
      ]
     },
     "execution_count": 58,
     "metadata": {},
     "output_type": "execute_result"
    }
   ],
   "source": [
    "g.run(\"\"\"\n",
    "    LOAD CSV WITH HEADERS FROM 'file:///Locations.csv' AS row\n",
    "    MERGE (l:Location {name: row.LOCATION})\n",
    "    ON CREATE SET l.spaces = row.SPACE_TYPES\n",
    "    \"\"\")"
   ]
  },
  {
   "cell_type": "markdown",
   "metadata": {},
   "source": [
    "### Hours Nodes"
   ]
  },
  {
   "cell_type": "code",
   "execution_count": 59,
   "metadata": {},
   "outputs": [
    {
     "data": {
      "text/plain": [
       "<py2neo.database.Cursor at 0x1098fe940>"
      ]
     },
     "execution_count": 59,
     "metadata": {},
     "output_type": "execute_result"
    }
   ],
   "source": [
    "g.run(\"\"\"\n",
    "    LOAD CSV WITH HEADERS FROM 'file:///Initiatives.csv' AS row\n",
    "    MERGE (h:Hours {hours: row.HOURS})\n",
    "    \"\"\")\n",
    "\n",
    "g.run(\"\"\"\n",
    "    LOAD CSV WITH HEADERS FROM 'file:///SubPrograms.csv' AS row\n",
    "    MERGE (h:Hours {hours: row.HOURS})\n",
    "    \"\"\")"
   ]
  },
  {
   "cell_type": "markdown",
   "metadata": {},
   "source": [
    "## 1.2 Connections\n",
    "### Connection: STAFF > PROGRAM and/or SUB PROGRAM"
   ]
  },
  {
   "cell_type": "code",
   "execution_count": 60,
   "metadata": {},
   "outputs": [
    {
     "data": {
      "text/plain": [
       "<py2neo.database.Cursor at 0x1098fedd8>"
      ]
     },
     "execution_count": 60,
     "metadata": {},
     "output_type": "execute_result"
    }
   ],
   "source": [
    "g.run(\"\"\"\n",
    "    LOAD CSV WITH HEADERS FROM 'file:///Staff.csv' AS row\n",
    "    MATCH (s:Staff {name: row.NAME})\n",
    "    MATCH (p:Program {name: row.PROGRAM})\n",
    "    MERGE (s)-[:WORKS_IN]->(p)\n",
    "    \"\"\")\n",
    "\n",
    "g.run(\"\"\"\n",
    "    LOAD CSV WITH HEADERS FROM 'file:///Staff.csv' AS row\n",
    "    MATCH (s:Staff {name: row.NAME})\n",
    "    MATCH (b:SubProgram {name: row.PROGRAM})\n",
    "    MERGE (s)-[:WORKS_IN]->(b)\n",
    "    \"\"\")"
   ]
  },
  {
   "cell_type": "markdown",
   "metadata": {},
   "source": [
    "### Connection: SUB PROGRAM > PROGRAM"
   ]
  },
  {
   "cell_type": "code",
   "execution_count": 61,
   "metadata": {
    "scrolled": false
   },
   "outputs": [
    {
     "data": {
      "text/plain": [
       "<py2neo.database.Cursor at 0x1098fe780>"
      ]
     },
     "execution_count": 61,
     "metadata": {},
     "output_type": "execute_result"
    }
   ],
   "source": [
    "g.run(\"\"\"\n",
    "    LOAD CSV WITH HEADERS FROM 'file:///SubPrograms.csv' AS row\n",
    "    MATCH (b:SubProgram {name: row.SUBPROGRAM})\n",
    "    MATCH (p:Program {name: row.PROGRAM})\n",
    "    MERGE (b)-[:IS_PART_OF]->(p)\n",
    "    \"\"\")"
   ]
  },
  {
   "cell_type": "markdown",
   "metadata": {},
   "source": [
    "### Connection: INITIATIVE > SUB PROGRAM"
   ]
  },
  {
   "cell_type": "code",
   "execution_count": 63,
   "metadata": {},
   "outputs": [
    {
     "data": {
      "text/plain": [
       "<py2neo.database.Cursor at 0x1098fe470>"
      ]
     },
     "execution_count": 63,
     "metadata": {},
     "output_type": "execute_result"
    }
   ],
   "source": [
    "# initiative IS_PART_OF program\n",
    "g.run(\"\"\"\n",
    "    LOAD CSV WITH HEADERS FROM 'file:///Initiatives.csv' AS row\n",
    "    MATCH (i:Initiative {name: row.INITIATIVE})\n",
    "    MATCH (p:Program {name: row.PROGRAM})\n",
    "    MERGE (i)-[:IS_PART_OF]->(p)\n",
    "    \"\"\")\n",
    "\n",
    "# initiative IS_PART_OF subprogram\n",
    "g.run(\"\"\"\n",
    "    LOAD CSV WITH HEADERS FROM 'file:///Initiatives.csv' AS row\n",
    "    MATCH (i:Initiative {name: row.INITIATIVE})\n",
    "    MATCH (b:SubProgram {name: row.SUBPROGRAM})\n",
    "    MERGE (i)-[:IS_PART_OF]->(b)\n",
    "    \"\"\")\n",
    "\n",
    "# initiative AT_LOCATION location\n",
    "g.run(\"\"\"\n",
    "    LOAD CSV WITH HEADERS FROM 'file:///Initiatives.csv' AS row\n",
    "    MATCH (i:Initiative {name: row.INITIATIVE})\n",
    "    MATCH (l:Location {name: row.LOCATION})\n",
    "    MERGE (i)-[:AT_LOCATION]->(l)\n",
    "    \"\"\")\n",
    "\n",
    "# initiative  hours\n",
    "g.run(\"\"\"\n",
    "    LOAD CSV WITH HEADERS FROM 'file:///Initiatives.csv' AS row\n",
    "    MATCH (i:Initiative {name: row.INITIATIVE})\n",
    "    MATCH (h:Hours {hours: row.HOURS})\n",
    "    MERGE (i)-[:ON_TIME]->(h)\n",
    "    \"\"\")"
   ]
  },
  {
   "cell_type": "code",
   "execution_count": null,
   "metadata": {},
   "outputs": [],
   "source": []
  },
  {
   "cell_type": "code",
   "execution_count": null,
   "metadata": {},
   "outputs": [],
   "source": []
  },
  {
   "cell_type": "code",
   "execution_count": null,
   "metadata": {},
   "outputs": [],
   "source": []
  },
  {
   "cell_type": "markdown",
   "metadata": {},
   "source": [
    "## Degree Centrality"
   ]
  },
  {
   "cell_type": "code",
   "execution_count": 7,
   "metadata": {},
   "outputs": [
    {
     "data": {
      "text/plain": [
       "[{'n.name': 'Conor',\n",
       "  'n.last': 'Cunningham',\n",
       "  'n.email': 'cc2697@cornell.edu',\n",
       "  'ego': 9},\n",
       " {'n.name': 'Gabrielle',\n",
       "  'n.last': 'Zandi',\n",
       "  'n.email': 'gpz4@cornell.edu',\n",
       "  'ego': 9},\n",
       " {'n.name': 'Jo-Anne',\n",
       "  'n.last': 'Loh',\n",
       "  'n.email': 'jl3839@cornell.edu',\n",
       "  'ego': 8},\n",
       " {'n.name': 'Po Yen',\n",
       "  'n.last': 'Tseng',\n",
       "  'n.email': 'pt382@cornell.edu',\n",
       "  'ego': 7},\n",
       " {'n.name': 'Marisha',\n",
       "  'n.last': 'Thakker',\n",
       "  'n.email': 'mbt53@cornell.edu',\n",
       "  'ego': 7}]"
      ]
     },
     "execution_count": 7,
     "metadata": {},
     "output_type": "execute_result"
    }
   ],
   "source": [
    "g.run(\"\"\"\n",
    "MATCH (n) \n",
    "WHERE NOT (n:Program)\n",
    "RETURN DISTINCT n.name,n.last, n.email, size((n)<--()) as ego Order BY ego DESC LIMIT 5\n",
    "      \"\"\").data()"
   ]
  },
  {
   "cell_type": "markdown",
   "metadata": {},
   "source": [
    "## Betweenness Centrality"
   ]
  },
  {
   "cell_type": "code",
   "execution_count": 8,
   "metadata": {},
   "outputs": [
    {
     "data": {
      "text/plain": [
       "[{'node.name': 'Renee',\n",
       "  'node.last': 'Zacharowicz',\n",
       "  'node.email': 'rz336@cornell.edu',\n",
       "  'score': 5214.8912698412705},\n",
       " {'node.name': 'Conor',\n",
       "  'node.last': 'Cunningham',\n",
       "  'node.email': 'cc2697@cornell.edu',\n",
       "  'score': 4308.464285714284},\n",
       " {'node.name': 'Steffen',\n",
       "  'node.last': 'Baumgarten',\n",
       "  'node.email': 'stb92@cornell.edu',\n",
       "  'score': 3921.6833333333325},\n",
       " {'node.name': 'Charles',\n",
       "  'node.last': 'Kuang',\n",
       "  'node.email': 'ck742@cornell.edu',\n",
       "  'score': 3874.683333333332},\n",
       " {'node.name': 'Iman',\n",
       "  'node.last': 'Diarra',\n",
       "  'node.email': 'iman@newschool.edu',\n",
       "  'score': 3627.5376984126992}]"
      ]
     },
     "execution_count": 8,
     "metadata": {},
     "output_type": "execute_result"
    }
   ],
   "source": [
    "g.run(\"\"\"\n",
    "MATCH (node:Student)\n",
    "WITH collect(node) AS nodes\n",
    "CALL apoc.algo.betweenness(['TEAMING'],nodes,'INCOMING') YIELD node, score\n",
    "RETURN node.name, node.last, node.email, score\n",
    "ORDER BY score DESC\n",
    "LIMIT 5\n",
    "\"\"\").data()"
   ]
  },
  {
   "cell_type": "markdown",
   "metadata": {},
   "source": [
    "## PageRank"
   ]
  },
  {
   "cell_type": "code",
   "execution_count": 9,
   "metadata": {},
   "outputs": [
    {
     "data": {
      "text/plain": [
       "[{'node.name': 'Gabrielle',\n",
       "  'node.last': 'Zandi',\n",
       "  'node.email': 'gpz4@cornell.edu',\n",
       "  'score': 1.06157},\n",
       " {'node.name': 'Iman',\n",
       "  'node.last': 'Diarra',\n",
       "  'node.email': 'iman@newschool.edu',\n",
       "  'score': 0.77762},\n",
       " {'node.name': 'Ben',\n",
       "  'node.last': 'Zelditch',\n",
       "  'node.email': 'bz87@cornell.edu',\n",
       "  'score': 0.73736},\n",
       " {'node.name': 'Saniya',\n",
       "  'node.last': 'Shah',\n",
       "  'node.email': 'ss3734@cornell.edu',\n",
       "  'score': 0.7159},\n",
       " {'node.name': 'Christopher',\n",
       "  'node.last': 'Caulfield',\n",
       "  'node.email': 'ctc98@cornell.edu',\n",
       "  'score': 0.70883}]"
      ]
     },
     "execution_count": 9,
     "metadata": {},
     "output_type": "execute_result"
    }
   ],
   "source": [
    "g.run(\"\"\"\n",
    "MATCH (node:Student)\n",
    "WITH collect(node) AS nodes\n",
    "CALL apoc.algo.pageRank(nodes) YIELD node, score\n",
    "RETURN node.name, node.last, node.email, score\n",
    "ORDER BY score DESC\n",
    "LIMIT 5\n",
    "\"\"\").data()"
   ]
  },
  {
   "cell_type": "markdown",
   "metadata": {},
   "source": [
    "## Skills"
   ]
  },
  {
   "cell_type": "code",
   "execution_count": 10,
   "metadata": {},
   "outputs": [
    {
     "data": {
      "text/plain": [
       "<py2neo.database.Cursor at 0x111713ac8>"
      ]
     },
     "execution_count": 10,
     "metadata": {},
     "output_type": "execute_result"
    }
   ],
   "source": [
    "g.run(\"CREATE CONSTRAINT ON (s:Skills_topic) ASSERT s.topic_skills IS UNIQUE\")"
   ]
  },
  {
   "cell_type": "code",
   "execution_count": 11,
   "metadata": {},
   "outputs": [
    {
     "data": {
      "text/plain": [
       "<py2neo.database.Cursor at 0x1119ccac8>"
      ]
     },
     "execution_count": 11,
     "metadata": {},
     "output_type": "execute_result"
    }
   ],
   "source": [
    "g.run(\"\"\"\n",
    "    LOAD CSV WITH HEADERS FROM \"file:///superpowers-clean-4.csv\" AS row \n",
    "    MERGE (s:Skills_topic {topic: row.topic_skills})\n",
    "    \"\"\")"
   ]
  },
  {
   "cell_type": "markdown",
   "metadata": {},
   "source": [
    "## ConnectionSkills"
   ]
  },
  {
   "cell_type": "code",
   "execution_count": 12,
   "metadata": {},
   "outputs": [
    {
     "data": {
      "text/plain": [
       "<py2neo.database.Cursor at 0x1100f2940>"
      ]
     },
     "execution_count": 12,
     "metadata": {},
     "output_type": "execute_result"
    }
   ],
   "source": [
    "g.run(\"\"\"\n",
    "    LOAD CSV WITH HEADERS FROM 'file:///superpowers-clean-4.csv' AS row\n",
    "    MATCH (s:Student {email: row.email})\n",
    "    MATCH (p:Skills_topic {topic: row.topic_skills})\n",
    "    MERGE (s)-[:HAVE_SKILL]->(p)\n",
    "    \"\"\")"
   ]
  },
  {
   "cell_type": "code",
   "execution_count": 13,
   "metadata": {},
   "outputs": [],
   "source": [
    "#MATCH (p:Program)<-[:STUDING]-(s:Student)-[r:HAVE_SKILL]->(T:Skills_topic) \n",
    "#RETURN r,s,T,p"
   ]
  },
  {
   "cell_type": "code",
   "execution_count": 14,
   "metadata": {},
   "outputs": [
    {
     "data": {
      "text/plain": [
       "<py2neo.database.Cursor at 0x111a31f28>"
      ]
     },
     "execution_count": 14,
     "metadata": {},
     "output_type": "execute_result"
    }
   ],
   "source": [
    "g.run(\"\"\"\n",
    "    MATCH (s:Skills_topic {topic:\"0\"})\n",
    "    SET s.decription = \"digit, intern, compani, build, comput, digit market, market, databas\"\n",
    "    \"\"\")\n",
    "g.run(\"\"\"\n",
    "    MATCH (s:Skills_topic {topic:\"1\"})\n",
    "    SET s.decription = \"product, design, market, product manag, manag, ux, brand, present\"\n",
    "    \"\"\")\n",
    "g.run(\"\"\"\n",
    "    MATCH (s:Skills_topic {topic:\"2\"})\n",
    "    SET s.decription = \"work, team, legal, experi, technic, plan, public, python\"\n",
    "    \"\"\")\n",
    "g.run(\"\"\"\n",
    "    MATCH (s:Skills_topic {topic:\"3\"})\n",
    "    SET s.decription = \"java, statist, analysi, project, data, js, project manag, data analysi\"\n",
    "    \"\"\")\n",
    "g.run(\"\"\"\n",
    "    MATCH (s:Skills_topic {topic:\"4\"})\n",
    "    SET s.decription = \"c, web, develop, stack, full, full stack, web develop, python\"\n",
    "    \"\"\")\n",
    "g.run(\"\"\"\n",
    "    MATCH (s:Skills_topic {topic:\"5\"})\n",
    "    SET s.decription = \"larn, machin, machin learn, think, model, strategi, speak, public speak\"\n",
    "    \"\"\")"
   ]
  },
  {
   "cell_type": "markdown",
   "metadata": {},
   "source": [
    "## Passions"
   ]
  },
  {
   "cell_type": "code",
   "execution_count": 15,
   "metadata": {},
   "outputs": [
    {
     "data": {
      "text/plain": [
       "<py2neo.database.Cursor at 0x1119ccc18>"
      ]
     },
     "execution_count": 15,
     "metadata": {},
     "output_type": "execute_result"
    }
   ],
   "source": [
    "g.run(\"CREATE CONSTRAINT ON (p:Passions_topic) ASSERT p.topic_passions IS UNIQUE\")"
   ]
  },
  {
   "cell_type": "code",
   "execution_count": 16,
   "metadata": {},
   "outputs": [
    {
     "data": {
      "text/plain": [
       "<py2neo.database.Cursor at 0x110192ef0>"
      ]
     },
     "execution_count": 16,
     "metadata": {},
     "output_type": "execute_result"
    }
   ],
   "source": [
    "g.run(\"\"\"\n",
    "    LOAD CSV WITH HEADERS FROM \"file:///superpowers-clean-4.csv\" AS row \n",
    "    MERGE (s:Passions_topic {topic_passions: row.topic_passions})\n",
    "    \"\"\")"
   ]
  },
  {
   "cell_type": "code",
   "execution_count": 17,
   "metadata": {},
   "outputs": [
    {
     "data": {
      "text/plain": [
       "<py2neo.database.Cursor at 0x1119cc940>"
      ]
     },
     "execution_count": 17,
     "metadata": {},
     "output_type": "execute_result"
    }
   ],
   "source": [
    "g.run(\"\"\"\n",
    "    LOAD CSV WITH HEADERS FROM 'file:///superpowers-clean-4.csv' AS row\n",
    "    MATCH (s:Student {email: row.email})\n",
    "    MATCH (p:Passions_topic {topic_passions: row.topic_passions})\n",
    "    MERGE (s)-[:HAVE_PASSION]->(p)\n",
    "    \"\"\")"
   ]
  },
  {
   "cell_type": "code",
   "execution_count": 18,
   "metadata": {},
   "outputs": [
    {
     "data": {
      "text/plain": [
       "<py2neo.database.Cursor at 0x111a3d4a8>"
      ]
     },
     "execution_count": 18,
     "metadata": {},
     "output_type": "execute_result"
    }
   ],
   "source": [
    "g.run(\"\"\"\n",
    "    MATCH (s:Passions_topic {topic_passions:\"0\"})\n",
    "    SET s.decription = \"travel, learn, new, food, cultur, citi\"\n",
    "    \"\"\")\n",
    "g.run(\"\"\"\n",
    "    MATCH (s:Passions_topic {topic_passions:\"1\"})\n",
    "    SET s.decription = \"travel, design, food, game, movi, card\"\n",
    "    \"\"\")\n",
    "g.run(\"\"\"\n",
    "    MATCH (s:Passions_topic{topic_passions:\"2\"})\n",
    "    SET s.decription = \"fashion, develop, design, love, travel, talk\"\n",
    "    \"\"\")\n",
    "g.run(\"\"\"\n",
    "    MATCH (s:Passions_topic {topic_passions:\"3\"})\n",
    "    SET s.decription = \"tech, polit, energi, econom, blockchain, healthcar\"\n",
    "    \"\"\")\n",
    "g.run(\"\"\"\n",
    "    MATCH (s:Passions_topic {topic_passions:\"4\"})\n",
    "    SET s.decription = \"data, health, scienc, data scienc, tech, law\"\n",
    "    \"\"\")\n",
    "g.run(\"\"\"\n",
    "    MATCH (s:Passions_topic {topic_passions:\"5\"})\n",
    "    SET s.decription = \"music, game, video game, video, movi, food\"\n",
    "    \"\"\")"
   ]
  },
  {
   "cell_type": "markdown",
   "metadata": {},
   "source": [
    "## Passions"
   ]
  },
  {
   "cell_type": "code",
   "execution_count": 19,
   "metadata": {},
   "outputs": [
    {
     "data": {
      "text/plain": [
       "<py2neo.database.Cursor at 0x111a31c18>"
      ]
     },
     "execution_count": 19,
     "metadata": {},
     "output_type": "execute_result"
    }
   ],
   "source": [
    "g.run(\"CREATE CONSTRAINT ON (p:Passions_topic) ASSERT p.topic_passions IS UNIQUE\")"
   ]
  },
  {
   "cell_type": "code",
   "execution_count": 20,
   "metadata": {},
   "outputs": [
    {
     "data": {
      "text/plain": [
       "<py2neo.database.Cursor at 0x1119ccbe0>"
      ]
     },
     "execution_count": 20,
     "metadata": {},
     "output_type": "execute_result"
    }
   ],
   "source": [
    "g.run(\"\"\"\n",
    "    LOAD CSV WITH HEADERS FROM \"file:///superpowers-clean-4.csv\" AS row \n",
    "    MERGE (s:Passions_topic {topic_passions: row.topic_passions})\n",
    "    \"\"\")"
   ]
  },
  {
   "cell_type": "code",
   "execution_count": 21,
   "metadata": {},
   "outputs": [
    {
     "data": {
      "text/plain": [
       "<py2neo.database.Cursor at 0x111a31a90>"
      ]
     },
     "execution_count": 21,
     "metadata": {},
     "output_type": "execute_result"
    }
   ],
   "source": [
    "g.run(\"\"\"\n",
    "    LOAD CSV WITH HEADERS FROM 'file:///superpowers-clean-4.csv' AS row\n",
    "    MATCH (s:Student {email: row.email})\n",
    "    MATCH (p:Passions_topic {topic_passions: row.topic_passions})\n",
    "    MERGE (s)-[:HAVE_PASSION]->(p)\n",
    "    \"\"\")"
   ]
  },
  {
   "cell_type": "code",
   "execution_count": 22,
   "metadata": {},
   "outputs": [
    {
     "data": {
      "text/plain": [
       "<py2neo.database.Cursor at 0x111a3d978>"
      ]
     },
     "execution_count": 22,
     "metadata": {},
     "output_type": "execute_result"
    }
   ],
   "source": [
    "g.run(\"\"\"\n",
    "    MATCH (s:Passions_topic {topic_passions:\"0\"})\n",
    "    SET s.decription = \"travel, learn, new, food, cultur, citi\"\n",
    "    \"\"\")\n",
    "g.run(\"\"\"\n",
    "    MATCH (s:Passions_topic {topic_passions:\"1\"})\n",
    "    SET s.decription = \"travel, design, food, game, movi, card\"\n",
    "    \"\"\")\n",
    "g.run(\"\"\"\n",
    "    MATCH (s:Passions_topic{topic_passions:\"2\"})\n",
    "    SET s.decription = \"fashion, develop, design, love, travel, talk\"\n",
    "    \"\"\")\n",
    "g.run(\"\"\"\n",
    "    MATCH (s:Passions_topic {topic_passions:\"3\"})\n",
    "    SET s.decription = \"tech, polit, energi, econom, blockchain, healthcar\"\n",
    "    \"\"\")\n",
    "g.run(\"\"\"\n",
    "    MATCH (s:Passions_topic {topic_passions:\"4\"})\n",
    "    SET s.decription = \"data, health, scienc, data scienc, tech, law\"\n",
    "    \"\"\")\n",
    "g.run(\"\"\"\n",
    "    MATCH (s:Passions_topic {topic_passions:\"5\"})\n",
    "    SET s.decription = \"music, game, video game, video, movi, food\"\n",
    "    \"\"\")"
   ]
  },
  {
   "cell_type": "code",
   "execution_count": 23,
   "metadata": {},
   "outputs": [],
   "source": [
    "#MATCH (p:Program)<-[:STUDING]-(s:Student)-[r:HAVE_PASSION]->(t:Passions_topic) \n",
    "#RETURN p,s,r,t"
   ]
  },
  {
   "cell_type": "code",
   "execution_count": 24,
   "metadata": {},
   "outputs": [],
   "source": [
    "#MATCH (p:Program {name:\"MBA\"})<-[:STUDING]-(s:Student)-[r:HAVE_PASSION]->(t:Passions_topic {topic_passions:\"5\"}) \n",
    "#RETURN p,s,r,t"
   ]
  },
  {
   "cell_type": "markdown",
   "metadata": {},
   "source": [
    "## Experience"
   ]
  },
  {
   "cell_type": "code",
   "execution_count": 25,
   "metadata": {},
   "outputs": [
    {
     "data": {
      "text/plain": [
       "<py2neo.database.Cursor at 0x111a319e8>"
      ]
     },
     "execution_count": 25,
     "metadata": {},
     "output_type": "execute_result"
    }
   ],
   "source": [
    "g.run(\"CREATE CONSTRAINT ON (p:Experience_topic) ASSERT p.topic_experience IS UNIQUE\")"
   ]
  },
  {
   "cell_type": "code",
   "execution_count": 26,
   "metadata": {},
   "outputs": [
    {
     "data": {
      "text/plain": [
       "<py2neo.database.Cursor at 0x111a31908>"
      ]
     },
     "execution_count": 26,
     "metadata": {},
     "output_type": "execute_result"
    }
   ],
   "source": [
    "g.run(\"\"\"\n",
    "    LOAD CSV WITH HEADERS FROM \"file:///superpowers-clean-4.csv\" AS row \n",
    "    MERGE (s:Experience_topic {topic_experience: row.topic_experience})\n",
    "    \"\"\")"
   ]
  },
  {
   "cell_type": "code",
   "execution_count": 27,
   "metadata": {},
   "outputs": [
    {
     "data": {
      "text/plain": [
       "<py2neo.database.Cursor at 0x111a316d8>"
      ]
     },
     "execution_count": 27,
     "metadata": {},
     "output_type": "execute_result"
    }
   ],
   "source": [
    "g.run(\"\"\"\n",
    "    LOAD CSV WITH HEADERS FROM 'file:///superpowers-clean-4.csv' AS row\n",
    "    MATCH (s:Student {email: row.email})\n",
    "    MATCH (p:Experience_topic {topic_experience: row.topic_experience})\n",
    "    MERGE (s)-[:HAVE_EXPERIENCE]->(p)\n",
    "    \"\"\")"
   ]
  },
  {
   "cell_type": "code",
   "execution_count": 28,
   "metadata": {},
   "outputs": [
    {
     "data": {
      "text/plain": [
       "<py2neo.database.Cursor at 0x111a3dcf8>"
      ]
     },
     "execution_count": 28,
     "metadata": {},
     "output_type": "execute_result"
    }
   ],
   "source": [
    "g.run(\"\"\"\n",
    "    MATCH (s:Experience_topic {topic_experience:\"0\"})\n",
    "    SET s.decription = \"consult, design, product, data, project, product manag, experi\"\n",
    "    \"\"\")\n",
    "g.run(\"\"\"\n",
    "    MATCH (s:Experience_topic {topic_experience:\"1\"})\n",
    "    SET s.decription = \"engin, softwar, tech, compani, develop, product, intern\"\n",
    "    \"\"\")\n"
   ]
  },
  {
   "cell_type": "code",
   "execution_count": 29,
   "metadata": {},
   "outputs": [],
   "source": [
    "#MATCH (p:Program)<-[:STUDING]-(s:Student)-[r:HAVE_EXPERIENCE]->(t:Experience_topic) \n",
    "#RETURN p,s,r,t"
   ]
  },
  {
   "cell_type": "markdown",
   "metadata": {},
   "source": [
    "## Complementary Skills"
   ]
  },
  {
   "cell_type": "code",
   "execution_count": 30,
   "metadata": {},
   "outputs": [
    {
     "data": {
      "text/plain": [
       "<py2neo.database.Cursor at 0x111a3de10>"
      ]
     },
     "execution_count": 30,
     "metadata": {},
     "output_type": "execute_result"
    }
   ],
   "source": [
    "g.run(\"CREATE CONSTRAINT ON (p:Complementary_skills_topic) ASSERT p.complementary_skills IS UNIQUE\")"
   ]
  },
  {
   "cell_type": "code",
   "execution_count": 31,
   "metadata": {},
   "outputs": [
    {
     "data": {
      "text/plain": [
       "<py2neo.database.Cursor at 0x111a31e10>"
      ]
     },
     "execution_count": 31,
     "metadata": {},
     "output_type": "execute_result"
    }
   ],
   "source": [
    "g.run(\"\"\"\n",
    "    LOAD CSV WITH HEADERS FROM \"file:///superpowers-clean-4.csv\" AS row \n",
    "    MERGE (s:Complementary_skills_topic {complementary_skills: row.topic_clomplentary_skills})\n",
    "    \"\"\")"
   ]
  },
  {
   "cell_type": "code",
   "execution_count": 32,
   "metadata": {},
   "outputs": [
    {
     "data": {
      "text/plain": [
       "<py2neo.database.Cursor at 0x111a3deb8>"
      ]
     },
     "execution_count": 32,
     "metadata": {},
     "output_type": "execute_result"
    }
   ],
   "source": [
    "g.run(\"\"\"\n",
    "    LOAD CSV WITH HEADERS FROM 'file:///superpowers-clean-4.csv' AS row\n",
    "    MATCH (s:Student {email: row.email})\n",
    "    MATCH (p:Complementary_skills_topic {complementary_skills: row.topic_clomplentary_skills})\n",
    "    MERGE (s)-[:COMPLEMENTARY_SKILL]->(p)\n",
    "    \"\"\")"
   ]
  },
  {
   "cell_type": "code",
   "execution_count": 33,
   "metadata": {},
   "outputs": [
    {
     "data": {
      "text/plain": [
       "<py2neo.database.Cursor at 0x111a4d320>"
      ]
     },
     "execution_count": 33,
     "metadata": {},
     "output_type": "execute_result"
    }
   ],
   "source": [
    "g.run(\"\"\"\n",
    "    MATCH (s:Complementary_skills_topic {complementary_skills:\"0\"})\n",
    "    SET s.decription = \"develop, busi, sale, learn\"\n",
    "    \"\"\")\n",
    "g.run(\"\"\"\n",
    "    MATCH (s:Complementary_skills_topic {complementary_skills:\"1\"})\n",
    "    SET s.decription = \"public, speak, public speak, design\"\n",
    "    \"\"\")\n",
    "g.run(\"\"\"\n",
    "    MATCH (s:Complementary_skills_topic {complementary_skills:\"2\"})\n",
    "    SET s.decription = \"skill, technic, code, technic skill\"\n",
    "    \"\"\")\n"
   ]
  },
  {
   "cell_type": "code",
   "execution_count": 34,
   "metadata": {},
   "outputs": [],
   "source": [
    "#MATCH (p:Program)<-[:STUDING]-(s:Student)-[r:COMPLEMENTARY_SKILL]->(t:Complementary_skills_topic) \n",
    "#RETURN p,s,r,t"
   ]
  },
  {
   "cell_type": "code",
   "execution_count": 35,
   "metadata": {},
   "outputs": [],
   "source": [
    "#MATCH (p:Program {name:\"CS\"})<-[:STUDING]-(s:Student {gender: \"1\"})-[r:HAVE_PASSION]->(t:Passions_topic {topic_passions:\"5\"}) \n",
    "#RETURN s.name, s.email"
   ]
  },
  {
   "cell_type": "code",
   "execution_count": null,
   "metadata": {},
   "outputs": [],
   "source": [
    "#MATCH (p:Program {name:\"MBA\"})<-[:STUDING]-(s:Student {gender: \"1\"})-[r:HAVE_PASSION]->(t:Passions_topic) \n",
    "#WHERE s.passions CONTAINS \"marketing\"\n",
    "#RETURN s"
   ]
  },
  {
   "cell_type": "code",
   "execution_count": null,
   "metadata": {},
   "outputs": [],
   "source": [
    "#MATCH (p:Program {name:\"CS\"})<-[:STUDING]-(s:Student {gender: \"1\"})-[r:HAVE_PASSION]->(t:Passions_topic {topic_passions:\"5\"}) \n",
    "#WHERE s.passions CONTAINS \"game\"\n",
    "#RETURN s"
   ]
  }
 ],
 "metadata": {
  "kernelspec": {
   "display_name": "Python 3",
   "language": "python",
   "name": "python3"
  },
  "language_info": {
   "codemirror_mode": {
    "name": "ipython",
    "version": 3
   },
   "file_extension": ".py",
   "mimetype": "text/x-python",
   "name": "python",
   "nbconvert_exporter": "python",
   "pygments_lexer": "ipython3",
   "version": "3.7.3"
  }
 },
 "nbformat": 4,
 "nbformat_minor": 2
}
