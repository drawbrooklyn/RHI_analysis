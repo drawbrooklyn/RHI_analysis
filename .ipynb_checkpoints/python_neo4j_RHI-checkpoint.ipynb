{
 "cells": [
  {
   "cell_type": "markdown",
   "metadata": {},
   "source": [
    "# Red Hook Initiative (RHI) network analysis using py2neo and neo4j\n",
    "This notebook is connected to neo4j project and database, thus we can create, manage and query components of the database via the notebook, then visualizing them on neo4j. The language used is Cypher - a Neo4j’s graph query language that allows users to store and retrieve data from the graph database.\n",
    "\n",
    "- [Download neo4j](https://neo4j.com/download-neo4j-now/?utm_source=google&utm_medium=ppc&utm_campaign=*NA%20-%20Search%20-%20Branded&utm_adgroup=*NA%20-%20Search%20-%20Branded%20-%20Neo4j%20-%20Download%20-%20Exact&utm_term=neo4j%20download&gclid=Cj0KCQjwi43oBRDBARIsAExSRQFFn8nIJ4rzDGV0kdXlvF7nt1BAZY_z0URrTSJ_7-CHhCPHqXqZ9ksaAjiTEALw_wcB)\n",
    "- [install py2neo](https://py2neo.org/v4/)\n",
    "- [Cypher documentation](https://neo4j.com/developer/cypher/)\n",
    "\n",
    "[**Red Hook Initiative (RHI)**](https://rhicenter.org/) is a dominant community organization in Red Hook, Brooklyn, NY. Their goal is to support youth development through community building efforts. Since 2006, RHI programs had bloomed, it’s roots in the community deepened and today it reaches to over 5,000 Red Hook residents annually. "
   ]
  },
  {
   "cell_type": "markdown",
   "metadata": {},
   "source": [
    "# 0. Connecting to neo4j project"
   ]
  },
  {
   "cell_type": "code",
   "execution_count": 1,
   "metadata": {},
   "outputs": [],
   "source": [
    "from py2neo import Graph\n",
    "g = Graph(password=\"draw1234\") # connecting to the neo4j database"
   ]
  },
  {
   "cell_type": "markdown",
   "metadata": {},
   "source": [
    "# 1. Creating the database\n",
    "1. creating constrains\n",
    "2. creating nodes from .csv\n",
    "3. creating relationships between nodes"
   ]
  },
  {
   "cell_type": "code",
   "execution_count": 44,
   "metadata": {},
   "outputs": [
    {
     "data": {
      "text/plain": [
       "<py2neo.database.Cursor at 0x1120d7f60>"
      ]
     },
     "execution_count": 44,
     "metadata": {},
     "output_type": "execute_result"
    }
   ],
   "source": [
    "# creating constrains\n",
    "g.run(\"CREATE CONSTRAINT ON (s:Staff) ASSERT s.name IS UNIQUE\")\n",
    "g.run(\"CREATE CONSTRAINT ON (p:Program) ASSERT p.program IS UNIQUE\")\n",
    "g.run(\"CREATE CONSTRAINT ON (b:SubProgram) ASSERT b.subprogram IS UNIQUE\")\n",
    "g.run(\"CREATE CONSTRAINT ON (i:Initiative) ASSERT i.initiative IS UNIQUE\")\n",
    "g.run(\"CREATE CONSTRAINT ON (l:Location) ASSERT l.location IS UNIQUE\")\n",
    "g.run(\"CREATE CONSTRAINT ON (d:Days) ASSERT d.days IS UNIQUE\")\n",
    "g.run(\"CREATE CONSTRAINT ON (t:Time) ASSERT t.time IS UNIQUE\")\n",
    "g.run(\"CREATE CONSTRAINT ON (h:Hours) ASSERT h.hours IS UNIQUE\")\n",
    "g.run(\"CREATE CONSTRAINT ON (r:Room) ASSERT r.room IS UNIQUE\")\n",
    "g.run(\"CREATE CONSTRAINT ON (m:Member) ASSERT m.member IS UNIQUE\")"
   ]
  },
  {
   "cell_type": "code",
   "execution_count": 20,
   "metadata": {},
   "outputs": [
    {
     "data": {
      "text/plain": [
       "<py2neo.database.Cursor at 0x1149d1588>"
      ]
     },
     "execution_count": 20,
     "metadata": {},
     "output_type": "execute_result"
    }
   ],
   "source": [
    "# code for deleting all nodes and relationships\n",
    "# unhash to run\n",
    "g.run(\"MATCH (n) DETACH DELETE n\")"
   ]
  },
  {
   "cell_type": "markdown",
   "metadata": {},
   "source": [
    "## 1.1 Nodes\n",
    "### Staff Nodes"
   ]
  },
  {
   "cell_type": "code",
   "execution_count": 21,
   "metadata": {},
   "outputs": [
    {
     "data": {
      "text/plain": [
       "<py2neo.database.Cursor at 0x1149c5a58>"
      ]
     },
     "execution_count": 21,
     "metadata": {},
     "output_type": "execute_result"
    }
   ],
   "source": [
    "g.run(\"\"\"\n",
    "    LOAD CSV WITH HEADERS FROM \"file:///Staff.csv\" AS row \n",
    "    MERGE (s:Staff {name: row.NAME})\n",
    "    ON CREATE SET s.program = row.PROGRAM, s.role = row.ROLE, \n",
    "    s.team = row.TEAM, s.location = row.LOCATION\n",
    "    \"\"\")"
   ]
  },
  {
   "cell_type": "markdown",
   "metadata": {},
   "source": [
    "### Program Nodes"
   ]
  },
  {
   "cell_type": "code",
   "execution_count": 22,
   "metadata": {},
   "outputs": [
    {
     "data": {
      "text/plain": [
       "<py2neo.database.Cursor at 0x1149d1d68>"
      ]
     },
     "execution_count": 22,
     "metadata": {},
     "output_type": "execute_result"
    }
   ],
   "source": [
    "g.run(\"\"\"\n",
    "    LOAD CSV WITH HEADERS FROM \"file:///Programs.csv\" AS row \n",
    "    MERGE (p:Program {name: row.PROGRAM})\n",
    "    ON CREATE SET p.location = row.LOCATION, p.goal = row.GOAL\n",
    "    \"\"\")"
   ]
  },
  {
   "cell_type": "markdown",
   "metadata": {},
   "source": [
    "### Sub-Program Nodes"
   ]
  },
  {
   "cell_type": "code",
   "execution_count": 23,
   "metadata": {},
   "outputs": [
    {
     "data": {
      "text/plain": [
       "<py2neo.database.Cursor at 0x1138112b0>"
      ]
     },
     "execution_count": 23,
     "metadata": {},
     "output_type": "execute_result"
    }
   ],
   "source": [
    "g.run(\"\"\"\n",
    "    LOAD CSV WITH HEADERS FROM 'file:///SubPrograms.csv' AS row\n",
    "    MERGE (b:SubProgram {name: row.SUBPROGRAM})\n",
    "    ON CREATE SET b.program = row.PROGRAM, b.goal = row.GOAL,\n",
    "    b.location = row.LOCATION, b.hours = row.HOURS\n",
    "    \"\"\")"
   ]
  },
  {
   "cell_type": "markdown",
   "metadata": {},
   "source": [
    "### Initiatives Nodes"
   ]
  },
  {
   "cell_type": "code",
   "execution_count": 57,
   "metadata": {},
   "outputs": [
    {
     "data": {
      "text/plain": [
       "<py2neo.database.Cursor at 0x1098f8a58>"
      ]
     },
     "execution_count": 57,
     "metadata": {},
     "output_type": "execute_result"
    }
   ],
   "source": [
    "# g.run(\"\"\"\n",
    "#     LOAD CSV WITH HEADERS FROM 'file:///Initiatives.csv' AS row\n",
    "#     MERGE (i:Initiative {name: row.INITIATIVE})\n",
    "#     ON CREATE SET i.program = row.PROGRAM, i.subprogram = row.SUBPROGRAM,\n",
    "#     i.location = row.LOCATION, i.hours = row.HOURS\n",
    "#     \"\"\")"
   ]
  },
  {
   "cell_type": "markdown",
   "metadata": {},
   "source": [
    "### Location Nodes"
   ]
  },
  {
   "cell_type": "code",
   "execution_count": 24,
   "metadata": {},
   "outputs": [
    {
     "data": {
      "text/plain": [
       "<py2neo.database.Cursor at 0x1149d10b8>"
      ]
     },
     "execution_count": 24,
     "metadata": {},
     "output_type": "execute_result"
    }
   ],
   "source": [
    "g.run(\"\"\"\n",
    "    LOAD CSV WITH HEADERS FROM 'file:///Locations.csv' AS row\n",
    "    MERGE (l:Location {name: row.LOCATION})\n",
    "    ON CREATE SET l.spaces = row.SPACE_TYPES\n",
    "    \"\"\")"
   ]
  },
  {
   "cell_type": "markdown",
   "metadata": {},
   "source": [
    "### Times + Hours Nodes"
   ]
  },
  {
   "cell_type": "code",
   "execution_count": 25,
   "metadata": {},
   "outputs": [
    {
     "data": {
      "text/plain": [
       "<py2neo.database.Cursor at 0x1149c57b8>"
      ]
     },
     "execution_count": 25,
     "metadata": {},
     "output_type": "execute_result"
    }
   ],
   "source": [
    "# times (am, after school, full day, pm)\n",
    "g.run(\"\"\"\n",
    "    LOAD CSV WITH HEADERS FROM 'file:///SubPrograms.csv' AS row\n",
    "    MERGE (t:Time {time: row.TIME})\n",
    "    \"\"\")\n",
    "\n",
    "# g.run(\"\"\"\n",
    "#     LOAD CSV WITH HEADERS FROM 'file:///Initiatives.csv' AS row\n",
    "#     MERGE (h:Hours {hours: row.HOURS})\n",
    "#     \"\"\")\n",
    "\n",
    "# hours (specific hours during afternoon)\n",
    "g.run(\"\"\"\n",
    "    LOAD CSV WITH HEADERS FROM 'file:///SubPrograms.csv' AS row\n",
    "    MERGE (h:Hours {hours: row.HOURS})\n",
    "    \"\"\")\n",
    "\n",
    "# days\n",
    "g.run(\"\"\"    \n",
    "    LOAD CSV WITH HEADERS FROM 'file:///SubPrograms.csv' AS row\n",
    "    WITH row.DAY as Days\n",
    "    UNWIND [d IN split(Days, \",\") | trim(d)] AS Day\n",
    "    MERGE (d:Day {hours: row.HOURS})\n",
    "    \"\"\")"
   ]
  },
  {
   "cell_type": "markdown",
   "metadata": {},
   "source": [
    "### Members Nodes"
   ]
  },
  {
   "cell_type": "code",
   "execution_count": 24,
   "metadata": {},
   "outputs": [
    {
     "data": {
      "text/plain": [
       "<py2neo.database.Cursor at 0x1149d10b8>"
      ]
     },
     "execution_count": 24,
     "metadata": {},
     "output_type": "execute_result"
    }
   ],
   "source": [
    "# g.run(\"\"\"\n",
    "#     LOAD CSV WITH HEADERS FROM 'file:///Locations.csv' AS row\n",
    "#     MERGE (l:Location {name: row.LOCATION})\n",
    "#     ON CREATE SET l.spaces = row.SPACE_TYPES\n",
    "#     \"\"\")"
   ]
  },
  {
   "cell_type": "markdown",
   "metadata": {},
   "source": [
    "## 1.2 Connections\n",
    "### Connection: STAFF > PROGRAM and/or SUB PROGRAM"
   ]
  },
  {
   "cell_type": "code",
   "execution_count": 29,
   "metadata": {},
   "outputs": [
    {
     "data": {
      "text/plain": [
       "<py2neo.database.Cursor at 0x1149348d0>"
      ]
     },
     "execution_count": 29,
     "metadata": {},
     "output_type": "execute_result"
    }
   ],
   "source": [
    "# staff in program\n",
    "g.run(\"\"\"\n",
    "    LOAD CSV WITH HEADERS FROM 'file:///Staff.csv' AS row\n",
    "    MATCH (s:Staff {name: row.NAME})\n",
    "    MATCH (p:Program {name: row.PROGRAM})\n",
    "    MERGE (s)-[:WORKS_IN]->(p)\n",
    "    \"\"\")\n",
    "\n",
    "# staff in subprogram\n",
    "g.run(\"\"\"\n",
    "    LOAD CSV WITH HEADERS FROM 'file:///Staff.csv' AS row\n",
    "    MATCH (s:Staff {name: row.NAME})\n",
    "    MATCH (b:SubProgram {name: row.PROGRAM})\n",
    "    MERGE (s)-[:WORKS_IN]->(b)\n",
    "    \"\"\")\n",
    "\n",
    "# staff AT_LOCATION location\n",
    "g.run(\"\"\"\n",
    "    LOAD CSV WITH HEADERS FROM 'file:///Staff.csv' AS row\n",
    "    MATCH (s:Staff {name: row.NAME})\n",
    "    MATCH (l:Location {name: row.LOCATION})\n",
    "    MERGE (s)-[:AT_LOCATION]->(l)\n",
    "    \"\"\")\n",
    "\n",
    "# staff ON_TIME hours\n",
    "g.run(\"\"\"\n",
    "    LOAD CSV WITH HEADERS FROM 'file:///Staff.csv' AS row\n",
    "    MATCH (s:Staff {name: row.NAME})\n",
    "    MATCH (h:Hours {hours: row.HOURS})\n",
    "    MERGE (s)-[:ON_TIME]->(h)\n",
    "    \"\"\")"
   ]
  },
  {
   "cell_type": "markdown",
   "metadata": {},
   "source": [
    "### Connection: SUB PROGRAM > PROGRAM"
   ]
  },
  {
   "cell_type": "code",
   "execution_count": 27,
   "metadata": {
    "scrolled": false
   },
   "outputs": [
    {
     "data": {
      "text/plain": [
       "<py2neo.database.Cursor at 0x1149b9550>"
      ]
     },
     "execution_count": 27,
     "metadata": {},
     "output_type": "execute_result"
    }
   ],
   "source": [
    "# subprogram > program\n",
    "g.run(\"\"\"\n",
    "    LOAD CSV WITH HEADERS FROM 'file:///SubPrograms.csv' AS row\n",
    "    MATCH (b:SubProgram {name: row.SUBPROGRAM})\n",
    "    MATCH (p:Program {name: row.PROGRAM})\n",
    "    MERGE (b)-[:IS_PART_OF]->(p)\n",
    "    \"\"\")\n",
    "\n",
    "# subprogram AT_LOCATION location\n",
    "g.run(\"\"\"\n",
    "    LOAD CSV WITH HEADERS FROM 'file:///SubPrograms.csv' AS row\n",
    "    MATCH (b:SubProgram {name: row.SUBPROGRAM})\n",
    "    MATCH (l:Location {name: row.LOCATION})\n",
    "    MERGE (b)-[:AT_LOCATION]->(l)\n",
    "    \"\"\")\n",
    "\n",
    "# program AT_LOCATION location\n",
    "g.run(\"\"\"\n",
    "    LOAD CSV WITH HEADERS FROM 'file:///Programs.csv' AS row\n",
    "    MATCH (p:Program {name: row.PROGRAM})\n",
    "    MATCH (l:Location {name: row.LOCATION})\n",
    "    MERGE (p)-[:AT_LOCATION]->(l)\n",
    "    \"\"\")\n",
    "\n",
    "# subprogram ON_TIME hours\n",
    "g.run(\"\"\"\n",
    "    LOAD CSV WITH HEADERS FROM 'file:///SubPrograms.csv' AS row\n",
    "    MATCH (b:SubProgram {name: row.SUBPROGRAM})\n",
    "    MATCH (h:Hours {hours: row.HOURS})\n",
    "    MERGE (b)-[:ON_TIME]->(h)\n",
    "    \"\"\")"
   ]
  },
  {
   "cell_type": "markdown",
   "metadata": {},
   "source": [
    "### Connection: INITIATIVE > SUB PROGRAM"
   ]
  },
  {
   "cell_type": "code",
   "execution_count": 63,
   "metadata": {},
   "outputs": [
    {
     "data": {
      "text/plain": [
       "<py2neo.database.Cursor at 0x1098fe470>"
      ]
     },
     "execution_count": 63,
     "metadata": {},
     "output_type": "execute_result"
    }
   ],
   "source": [
    "# # initiative IS_PART_OF program\n",
    "# g.run(\"\"\"\n",
    "#     LOAD CSV WITH HEADERS FROM 'file:///Initiatives.csv' AS row\n",
    "#     MATCH (i:Initiative {name: row.INITIATIVE})\n",
    "#     MATCH (p:Program {name: row.PROGRAM})\n",
    "#     MERGE (i)-[:IS_PART_OF]->(p)\n",
    "#     \"\"\")\n",
    "\n",
    "# # initiative IS_PART_OF subprogram\n",
    "# g.run(\"\"\"\n",
    "#     LOAD CSV WITH HEADERS FROM 'file:///Initiatives.csv' AS row\n",
    "#     MATCH (i:Initiative {name: row.INITIATIVE})\n",
    "#     MATCH (b:SubProgram {name: row.SUBPROGRAM})\n",
    "#     MERGE (i)-[:IS_PART_OF]->(b)\n",
    "#     \"\"\")\n",
    "\n",
    "# # initiative AT_LOCATION location\n",
    "# g.run(\"\"\"\n",
    "#     LOAD CSV WITH HEADERS FROM 'file:///Initiatives.csv' AS row\n",
    "#     MATCH (i:Initiative {name: row.INITIATIVE})\n",
    "#     MATCH (l:Location {name: row.LOCATION})\n",
    "#     MERGE (i)-[:AT_LOCATION]->(l)\n",
    "#     \"\"\")\n",
    "\n",
    "# # initiative  hours\n",
    "# g.run(\"\"\"\n",
    "#     LOAD CSV WITH HEADERS FROM 'file:///Initiatives.csv' AS row\n",
    "#     MATCH (i:Initiative {name: row.INITIATIVE})\n",
    "#     MATCH (h:Hours {hours: row.HOURS})\n",
    "#     MERGE (i)-[:ON_TIME]->(h)\n",
    "#     \"\"\")"
   ]
  },
  {
   "cell_type": "code",
   "execution_count": null,
   "metadata": {},
   "outputs": [],
   "source": []
  },
  {
   "cell_type": "code",
   "execution_count": null,
   "metadata": {},
   "outputs": [],
   "source": []
  },
  {
   "cell_type": "code",
   "execution_count": null,
   "metadata": {},
   "outputs": [],
   "source": []
  },
  {
   "cell_type": "markdown",
   "metadata": {},
   "source": [
    "## Degree Centrality"
   ]
  },
  {
   "cell_type": "code",
   "execution_count": 43,
   "metadata": {
    "scrolled": true
   },
   "outputs": [
    {
     "name": "stderr",
     "output_type": "stream",
     "text": [
      "Failed to write data to connection ('localhost', 7687) (Address(host='127.0.0.1', port=7687)); (\"9; 'Bad file descriptor'\")\n"
     ]
    },
    {
     "data": {
      "text/plain": [
       "[{'n.name': 'Hicks st.', 'target_for': 71},\n",
       " {'n.name': 'Ferris st.', 'target_for': 3},\n",
       " {'n.name': 'Columbia st.', 'target_for': 1},\n",
       " {'n.name': 'Van Brunt st.', 'target_for': 0},\n",
       " {'n.name': 'Wolcott st.', 'target_for': 0}]"
      ]
     },
     "execution_count": 43,
     "metadata": {},
     "output_type": "execute_result"
    }
   ],
   "source": [
    "# location\n",
    "\n",
    "g.run(\"\"\"\n",
    "MATCH (n) \n",
    "WHERE (n:Location)\n",
    "RETURN DISTINCT n.name, size((n)<--()) as target_for Order BY target_for DESC LIMIT 5\n",
    "      \"\"\").data()"
   ]
  },
  {
   "cell_type": "code",
   "execution_count": 39,
   "metadata": {
    "scrolled": true
   },
   "outputs": [
    {
     "data": {
      "text/plain": [
       "[{'n.name': 'High School', 'target_for': 18},\n",
       " {'n.name': 'Young Adults', 'target_for': 16},\n",
       " {'n.name': 'Management & Operations', 'target_for': 15},\n",
       " {'n.name': 'Middle School', 'target_for': 12},\n",
       " {'n.name': 'Community Building', 'target_for': 6}]"
      ]
     },
     "execution_count": 39,
     "metadata": {},
     "output_type": "execute_result"
    }
   ],
   "source": [
    "# program\n",
    "\n",
    "g.run(\"\"\"\n",
    "MATCH (n) \n",
    "WHERE (n:Program)\n",
    "RETURN DISTINCT n.name, size((n)<--()) as target_for Order BY target_for DESC LIMIT 5\n",
    "      \"\"\").data()"
   ]
  },
  {
   "cell_type": "code",
   "execution_count": 42,
   "metadata": {
    "scrolled": true
   },
   "outputs": [
    {
     "data": {
      "text/plain": [
       "[{'n.hours': 'full-time', 'target_for': 29},\n",
       " {'n.hours': 'after school', 'target_for': 22},\n",
       " {'n.hours': 'am', 'target_for': 6},\n",
       " {'n.hours': 'weekly', 'target_for': 3},\n",
       " {'n.hours': 'pm', 'target_for': 2}]"
      ]
     },
     "execution_count": 42,
     "metadata": {},
     "output_type": "execute_result"
    }
   ],
   "source": [
    "# hours\n",
    "\n",
    "g.run(\"\"\"\n",
    "MATCH (n) \n",
    "WHERE (n:Hours)\n",
    "RETURN DISTINCT n.hours, size((n)<--()) as target_for Order BY target_for DESC LIMIT 5\n",
    "      \"\"\").data()"
   ]
  },
  {
   "cell_type": "markdown",
   "metadata": {},
   "source": [
    "## Betweenness Centrality"
   ]
  },
  {
   "cell_type": "code",
   "execution_count": 45,
   "metadata": {},
   "outputs": [],
   "source": [
    "# g.run(\"\"\"\n",
    "# MATCH (node:Student)\n",
    "# WITH collect(node) AS nodes\n",
    "# CALL apoc.algo.betweenness(['TEAMING'],nodes,'INCOMING') YIELD node, score\n",
    "# RETURN node.name, node.last, node.email, score\n",
    "# ORDER BY score DESC\n",
    "# LIMIT 5\n",
    "# \"\"\").data()"
   ]
  },
  {
   "cell_type": "code",
   "execution_count": null,
   "metadata": {},
   "outputs": [],
   "source": []
  }
 ],
 "metadata": {
  "kernelspec": {
   "display_name": "Python 3",
   "language": "python",
   "name": "python3"
  },
  "language_info": {
   "codemirror_mode": {
    "name": "ipython",
    "version": 3
   },
   "file_extension": ".py",
   "mimetype": "text/x-python",
   "name": "python",
   "nbconvert_exporter": "python",
   "pygments_lexer": "ipython3",
   "version": "3.7.3"
  }
 },
 "nbformat": 4,
 "nbformat_minor": 2
}
